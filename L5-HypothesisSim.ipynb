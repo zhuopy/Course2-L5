{
 "cells": [
  {
   "cell_type": "markdown",
   "metadata": {},
   "source": [
    "# L5 - Hypothesis Simulation \n",
    "\n",
    "## Author - ZhuoyuPeng\n",
    "\n"
   ]
  },
  {
   "cell_type": "markdown",
   "metadata": {},
   "source": [
    "## Instructions\n",
    "Use the <a href=\"https://archive.ics.uci.edu/ml/datasets/Automobile\">automotive data set</a> to perform the following:\n",
    "\n",
    "1. Identify a likely distribution for price and several other features.\n",
    "2. Compute basic summary statistics by both classical, bootstrap, and Bayesian methods\n",
    "3. Compute confidence intervals for these summary statistics by classical, bootstrap, and Bayesian methods\n",
    "4. Correctly use hypothesis tests to determine if the differences in pairs and multiple populations are significant:\n",
    "            Classical tests\n",
    "            Tukey’s Honest Significant Differences (HSD)\n",
    "            Bootstrap methods\n",
    "            Bayesian model\n"
   ]
  },
  {
   "cell_type": "markdown",
   "metadata": {},
   "source": [
    "### Note\n",
    "Please clearly outline the results with markdown text. Be sure your discussion includes narrative for your figures and tables so it is clear to the reader the importance of each bit of evidence."
   ]
  },
  {
   "cell_type": "code",
   "execution_count": 1,
   "metadata": {},
   "outputs": [],
   "source": [
    "fileName = \"https://library.startlearninglabs.uw.edu/DATASCI410/Datasets/Automobile%20price%20data%20_Raw_.csv\""
   ]
  },
  {
   "cell_type": "code",
   "execution_count": 2,
   "metadata": {},
   "outputs": [],
   "source": [
    "# Import libraries\n",
    "import pandas as pd\n",
    "import numpy as np\n",
    "import matplotlib.pyplot as plt\n",
    "from sklearn.preprocessing import scale\n",
    "import numpy.random as nr\n",
    "import scipy.stats as ss\n",
    "import statsmodels.api as sm\n",
    "from scipy.optimize import curve_fit\n",
    "from scipy.integrate import quad\n",
    "import scipy\n",
    "%matplotlib inline"
   ]
  },
  {
   "cell_type": "code",
   "execution_count": 3,
   "metadata": {},
   "outputs": [],
   "source": [
    "#read data\n",
    "df = pd.read_csv(fileName)"
   ]
  },
  {
   "cell_type": "code",
   "execution_count": 4,
   "metadata": {},
   "outputs": [
    {
     "data": {
      "text/html": [
       "<div>\n",
       "<style scoped>\n",
       "    .dataframe tbody tr th:only-of-type {\n",
       "        vertical-align: middle;\n",
       "    }\n",
       "\n",
       "    .dataframe tbody tr th {\n",
       "        vertical-align: top;\n",
       "    }\n",
       "\n",
       "    .dataframe thead th {\n",
       "        text-align: right;\n",
       "    }\n",
       "</style>\n",
       "<table border=\"1\" class=\"dataframe\">\n",
       "  <thead>\n",
       "    <tr style=\"text-align: right;\">\n",
       "      <th></th>\n",
       "      <th>symboling</th>\n",
       "      <th>normalized-losses</th>\n",
       "      <th>make</th>\n",
       "      <th>fuel-type</th>\n",
       "      <th>aspiration</th>\n",
       "      <th>num-of-doors</th>\n",
       "      <th>body-style</th>\n",
       "      <th>drive-wheels</th>\n",
       "      <th>engine-location</th>\n",
       "      <th>wheel-base</th>\n",
       "      <th>...</th>\n",
       "      <th>engine-size</th>\n",
       "      <th>fuel-system</th>\n",
       "      <th>bore</th>\n",
       "      <th>stroke</th>\n",
       "      <th>compression-ratio</th>\n",
       "      <th>horsepower</th>\n",
       "      <th>peak-rpm</th>\n",
       "      <th>city-mpg</th>\n",
       "      <th>highway-mpg</th>\n",
       "      <th>price</th>\n",
       "    </tr>\n",
       "  </thead>\n",
       "  <tbody>\n",
       "    <tr>\n",
       "      <th>0</th>\n",
       "      <td>3</td>\n",
       "      <td>?</td>\n",
       "      <td>alfa-romero</td>\n",
       "      <td>gas</td>\n",
       "      <td>std</td>\n",
       "      <td>two</td>\n",
       "      <td>convertible</td>\n",
       "      <td>rwd</td>\n",
       "      <td>front</td>\n",
       "      <td>88.6</td>\n",
       "      <td>...</td>\n",
       "      <td>130</td>\n",
       "      <td>mpfi</td>\n",
       "      <td>3.47</td>\n",
       "      <td>2.68</td>\n",
       "      <td>9.0</td>\n",
       "      <td>111</td>\n",
       "      <td>5000</td>\n",
       "      <td>21</td>\n",
       "      <td>27</td>\n",
       "      <td>13495</td>\n",
       "    </tr>\n",
       "    <tr>\n",
       "      <th>1</th>\n",
       "      <td>3</td>\n",
       "      <td>?</td>\n",
       "      <td>alfa-romero</td>\n",
       "      <td>gas</td>\n",
       "      <td>std</td>\n",
       "      <td>two</td>\n",
       "      <td>convertible</td>\n",
       "      <td>rwd</td>\n",
       "      <td>front</td>\n",
       "      <td>88.6</td>\n",
       "      <td>...</td>\n",
       "      <td>130</td>\n",
       "      <td>mpfi</td>\n",
       "      <td>3.47</td>\n",
       "      <td>2.68</td>\n",
       "      <td>9.0</td>\n",
       "      <td>111</td>\n",
       "      <td>5000</td>\n",
       "      <td>21</td>\n",
       "      <td>27</td>\n",
       "      <td>16500</td>\n",
       "    </tr>\n",
       "    <tr>\n",
       "      <th>2</th>\n",
       "      <td>1</td>\n",
       "      <td>?</td>\n",
       "      <td>alfa-romero</td>\n",
       "      <td>gas</td>\n",
       "      <td>std</td>\n",
       "      <td>two</td>\n",
       "      <td>hatchback</td>\n",
       "      <td>rwd</td>\n",
       "      <td>front</td>\n",
       "      <td>94.5</td>\n",
       "      <td>...</td>\n",
       "      <td>152</td>\n",
       "      <td>mpfi</td>\n",
       "      <td>2.68</td>\n",
       "      <td>3.47</td>\n",
       "      <td>9.0</td>\n",
       "      <td>154</td>\n",
       "      <td>5000</td>\n",
       "      <td>19</td>\n",
       "      <td>26</td>\n",
       "      <td>16500</td>\n",
       "    </tr>\n",
       "    <tr>\n",
       "      <th>3</th>\n",
       "      <td>2</td>\n",
       "      <td>164</td>\n",
       "      <td>audi</td>\n",
       "      <td>gas</td>\n",
       "      <td>std</td>\n",
       "      <td>four</td>\n",
       "      <td>sedan</td>\n",
       "      <td>fwd</td>\n",
       "      <td>front</td>\n",
       "      <td>99.8</td>\n",
       "      <td>...</td>\n",
       "      <td>109</td>\n",
       "      <td>mpfi</td>\n",
       "      <td>3.19</td>\n",
       "      <td>3.40</td>\n",
       "      <td>10.0</td>\n",
       "      <td>102</td>\n",
       "      <td>5500</td>\n",
       "      <td>24</td>\n",
       "      <td>30</td>\n",
       "      <td>13950</td>\n",
       "    </tr>\n",
       "    <tr>\n",
       "      <th>4</th>\n",
       "      <td>2</td>\n",
       "      <td>164</td>\n",
       "      <td>audi</td>\n",
       "      <td>gas</td>\n",
       "      <td>std</td>\n",
       "      <td>four</td>\n",
       "      <td>sedan</td>\n",
       "      <td>4wd</td>\n",
       "      <td>front</td>\n",
       "      <td>99.4</td>\n",
       "      <td>...</td>\n",
       "      <td>136</td>\n",
       "      <td>mpfi</td>\n",
       "      <td>3.19</td>\n",
       "      <td>3.40</td>\n",
       "      <td>8.0</td>\n",
       "      <td>115</td>\n",
       "      <td>5500</td>\n",
       "      <td>18</td>\n",
       "      <td>22</td>\n",
       "      <td>17450</td>\n",
       "    </tr>\n",
       "  </tbody>\n",
       "</table>\n",
       "<p>5 rows × 26 columns</p>\n",
       "</div>"
      ],
      "text/plain": [
       "   symboling normalized-losses         make fuel-type aspiration num-of-doors  \\\n",
       "0          3                 ?  alfa-romero       gas        std          two   \n",
       "1          3                 ?  alfa-romero       gas        std          two   \n",
       "2          1                 ?  alfa-romero       gas        std          two   \n",
       "3          2               164         audi       gas        std         four   \n",
       "4          2               164         audi       gas        std         four   \n",
       "\n",
       "    body-style drive-wheels engine-location  wheel-base  ...  engine-size  \\\n",
       "0  convertible          rwd           front        88.6  ...          130   \n",
       "1  convertible          rwd           front        88.6  ...          130   \n",
       "2    hatchback          rwd           front        94.5  ...          152   \n",
       "3        sedan          fwd           front        99.8  ...          109   \n",
       "4        sedan          4wd           front        99.4  ...          136   \n",
       "\n",
       "   fuel-system  bore  stroke compression-ratio horsepower  peak-rpm city-mpg  \\\n",
       "0         mpfi  3.47    2.68               9.0        111      5000       21   \n",
       "1         mpfi  3.47    2.68               9.0        111      5000       21   \n",
       "2         mpfi  2.68    3.47               9.0        154      5000       19   \n",
       "3         mpfi  3.19    3.40              10.0        102      5500       24   \n",
       "4         mpfi  3.19    3.40               8.0        115      5500       18   \n",
       "\n",
       "  highway-mpg  price  \n",
       "0          27  13495  \n",
       "1          27  16500  \n",
       "2          26  16500  \n",
       "3          30  13950  \n",
       "4          22  17450  \n",
       "\n",
       "[5 rows x 26 columns]"
      ]
     },
     "execution_count": 4,
     "metadata": {},
     "output_type": "execute_result"
    }
   ],
   "source": [
    "df.head()"
   ]
  },
  {
   "cell_type": "code",
   "execution_count": 5,
   "metadata": {},
   "outputs": [
    {
     "data": {
      "text/plain": [
       "symboling              int64\n",
       "normalized-losses     object\n",
       "make                  object\n",
       "fuel-type             object\n",
       "aspiration            object\n",
       "num-of-doors          object\n",
       "body-style            object\n",
       "drive-wheels          object\n",
       "engine-location       object\n",
       "wheel-base           float64\n",
       "length               float64\n",
       "width                float64\n",
       "height               float64\n",
       "curb-weight            int64\n",
       "engine-type           object\n",
       "num-of-cylinders      object\n",
       "engine-size            int64\n",
       "fuel-system           object\n",
       "bore                  object\n",
       "stroke                object\n",
       "compression-ratio    float64\n",
       "horsepower            object\n",
       "peak-rpm              object\n",
       "city-mpg               int64\n",
       "highway-mpg            int64\n",
       "price                 object\n",
       "dtype: object"
      ]
     },
     "execution_count": 5,
     "metadata": {},
     "output_type": "execute_result"
    }
   ],
   "source": [
    "df.dtypes"
   ]
  },
  {
   "cell_type": "code",
   "execution_count": 6,
   "metadata": {},
   "outputs": [
    {
     "data": {
      "text/plain": [
       "(205, 26)"
      ]
     },
     "execution_count": 6,
     "metadata": {},
     "output_type": "execute_result"
    }
   ],
   "source": [
    "df.shape"
   ]
  },
  {
   "cell_type": "markdown",
   "metadata": {},
   "source": [
    "### 1. Identify a likely distribution for price and several other features. For example, you should determine if the price is better represented by the log of price."
   ]
  },
  {
   "cell_type": "markdown",
   "metadata": {},
   "source": [
    "#### Let's study the distribution of price first."
   ]
  },
  {
   "cell_type": "code",
   "execution_count": 7,
   "metadata": {},
   "outputs": [],
   "source": [
    "#using to_numeric to convert dtype to numberic type\n",
    "df['price'] = pd.to_numeric(df['price'], errors='coerce')\n",
    "\n",
    "#if they are missing values, remove the missing values of\n",
    "df.dropna(inplace=True)\n",
    "\n",
    "#create log price\n",
    "df['log price'] = np.log(df['price'])"
   ]
  },
  {
   "cell_type": "code",
   "execution_count": 8,
   "metadata": {},
   "outputs": [
    {
     "data": {
      "image/png": "[encoded data removed]",
      "text/plain": [
       "<Figure size 432x432 with 2 Axes>"
      ]
     },
     "metadata": {
      "needs_background": "light"
     },
     "output_type": "display_data"
    }
   ],
   "source": [
    "def qq_plot(vec1, vec2):\n",
    "    import scipy.stats as ss\n",
    "    plt.figure(figsize=(6, 6)).gca() # define axis\n",
    "    ax1 = plt.subplot(221) ## setup the left subplot\n",
    "    ss.probplot(vec1, plot = ax1) ## Plot the left subplot\n",
    "    ax1 = plt.subplot(222) ## Set up the right subplot\n",
    "    ss.probplot(vec2, plot = ax1) ## Plot the right subplot\n",
    "    \n",
    "qq_plot(df['price'],df['log price'])"
   ]
  },
  {
   "cell_type": "markdown",
   "metadata": {},
   "source": [
    "Q-Q plots for price(left) and log price(right) are shown above. By eyes, log price is more straight than price, suggesting that log price could be more approaching normal than price.\n",
    "\n",
    "\n",
    "We need to do a further test to evaluate that. K-S test could be used.And we need to standardized samples before applying the K-S test."
   ]
  },
  {
   "cell_type": "code",
   "execution_count": 9,
   "metadata": {},
   "outputs": [],
   "source": [
    "#standardize both price and log price\n",
    "n_p = scale(df['price'])\n",
    "n_lp = scale(df['log price'])"
   ]
  },
  {
   "cell_type": "code",
   "execution_count": 10,
   "metadata": {},
   "outputs": [
    {
     "name": "stdout",
     "output_type": "stream",
     "text": [
      "KS-statistic for price = 0.1542761480184771\n",
      "P-value for price= 0.00012108611006800808\n"
     ]
    }
   ],
   "source": [
    "def ks_test(dat, name, dist = 'norm'):\n",
    "    from scipy.stats import kstest \n",
    "    ks_statisic, pvalue = kstest(dat, dist)\n",
    "    print('KS-statistic for '+ name + ' = ' + str(ks_statisic))\n",
    "    print('P-value for ' + name + '= ' + str(pvalue))\n",
    "    \n",
    "ks_test(n_p, 'price')    "
   ]
  },
  {
   "cell_type": "code",
   "execution_count": 11,
   "metadata": {},
   "outputs": [
    {
     "name": "stdout",
     "output_type": "stream",
     "text": [
      "KS-statistic for log price = 0.09781904713791056\n",
      "P-value for log price= 0.03984598613097214\n"
     ]
    }
   ],
   "source": [
    "ks_test(n_lp, 'log price')   "
   ]
  },
  {
   "cell_type": "markdown",
   "metadata": {},
   "source": [
    "Based on the statitics, both p-values smaller than the classic 0.05 threshold, suggesting we can reject the null hypothesis in both cases. If we set threshold alpha smaller, like 1%. In this case, we cannot reject the hypothesis for log price, suggesting that log price has no difference to normal distribution. Thus, log price can be better represented as a normal distribution."
   ]
  },
  {
   "cell_type": "markdown",
   "metadata": {},
   "source": [
    "#### Then study the distribution of length."
   ]
  },
  {
   "cell_type": "code",
   "execution_count": 12,
   "metadata": {},
   "outputs": [
    {
     "data": {
      "image/png": "[encoded data removed]",
      "text/plain": [
       "<Figure size 432x432 with 2 Axes>"
      ]
     },
     "metadata": {
      "needs_background": "light"
     },
     "output_type": "display_data"
    }
   ],
   "source": [
    "df['log length'] = np.log(df['length'])\n",
    "qq_plot(df['length'],df['log length'])"
   ]
  },
  {
   "cell_type": "code",
   "execution_count": 13,
   "metadata": {},
   "outputs": [
    {
     "name": "stdout",
     "output_type": "stream",
     "text": [
      "KS-statistic for n_l = 0.09130336434771913\n",
      "P-value for n_l= 0.06577245634398986\n",
      "None\n",
      "KS-statistic for n_ll = 0.0790959271014664\n",
      "P-value for n_ll= 0.15330086864442666\n",
      "None\n"
     ]
    }
   ],
   "source": [
    "n_l = scale(df['length'])\n",
    "n_ll = scale(df['log length'])\n",
    "\n",
    "print(ks_test(n_l, 'n_l'))\n",
    "print(ks_test(n_ll, 'n_ll'))"
   ]
  },
  {
   "cell_type": "markdown",
   "metadata": {},
   "source": [
    "Based on the statitics, both p-values are greater than the classic 0.05 threshold, suggesting we cannot reject the null hypothesis in both cases. If we set threshold alpha larger, like 10%. In this case, we cannot reject the hypothesis for log length, suggesting that log length still has no difference to normal distribution. In this case, log length is more likely to be similar to normal distribution."
   ]
  },
  {
   "cell_type": "markdown",
   "metadata": {},
   "source": [
    "#### Then study the distribution of width."
   ]
  },
  {
   "cell_type": "code",
   "execution_count": 14,
   "metadata": {},
   "outputs": [
    {
     "data": {
      "image/png": "[encoded data removed]",
      "text/plain": [
       "<Figure size 432x432 with 2 Axes>"
      ]
     },
     "metadata": {
      "needs_background": "light"
     },
     "output_type": "display_data"
    }
   ],
   "source": [
    "df['log width'] = np.log(df['width'])\n",
    "qq_plot(df['width'],df['log width'])"
   ]
  },
  {
   "cell_type": "code",
   "execution_count": 15,
   "metadata": {},
   "outputs": [
    {
     "name": "stdout",
     "output_type": "stream",
     "text": [
      "KS-statistic for n_w = 0.13162278069313804\n",
      "P-value for n_w= 0.0016971750865950022\n",
      "None\n",
      "KS-statistic for n_lw = 0.12470549875698722\n",
      "P-value for n_lw= 0.003493500118777147\n",
      "None\n"
     ]
    }
   ],
   "source": [
    "n_w = scale(df['width'])\n",
    "n_lw = scale(df['log width'])\n",
    "\n",
    "print(ks_test(n_w, 'n_w'))\n",
    "print(ks_test(n_lw, 'n_lw'))"
   ]
  },
  {
   "cell_type": "markdown",
   "metadata": {},
   "source": [
    "Based on the statitics, both p-values smaller than the classic 0.05 threshold, suggesting we can reject the null hypothesis in both cases. If we set threshold alpha smaller, like 2%. In this case, we cannot reject the hypothesis for log width, suggesting that log width has no difference to normal distribution. Thus, log width can be better represented as a normal distribution."
   ]
  },
  {
   "cell_type": "markdown",
   "metadata": {},
   "source": [
    "#### Then study the distribution of height"
   ]
  },
  {
   "cell_type": "code",
   "execution_count": 16,
   "metadata": {},
   "outputs": [
    {
     "data": {
      "image/png": "[encoded data removed]",
      "text/plain": [
       "<Figure size 432x432 with 2 Axes>"
      ]
     },
     "metadata": {
      "needs_background": "light"
     },
     "output_type": "display_data"
    }
   ],
   "source": [
    "df['log height'] = np.log(df['height'])\n",
    "qq_plot(df['height'],df['log height'])"
   ]
  },
  {
   "cell_type": "code",
   "execution_count": 17,
   "metadata": {},
   "outputs": [
    {
     "name": "stdout",
     "output_type": "stream",
     "text": [
      "KS-statistic for n_h = 0.07686935591018687\n",
      "P-value for n_h= 0.1765704740671308\n",
      "None\n",
      "KS-statistic for n_lh = 0.0853984386075139\n",
      "P-value for n_lh= 0.10054588434085347\n",
      "None\n"
     ]
    }
   ],
   "source": [
    "n_h = scale(df['height'])\n",
    "n_lh = scale(df['log height'])\n",
    "\n",
    "print(ks_test(n_h, 'n_h'))\n",
    "print(ks_test(n_lh, 'n_lh'))"
   ]
  },
  {
   "cell_type": "markdown",
   "metadata": {},
   "source": [
    "Based on the statitics, both p-values are greater than the classic 0.05 threshold, suggesting we cannot reject the null hypothesis in both cases. If we set threshold alpha larger, like 15%. In this case, we cannot reject the hypothesis for height, suggesting that height still has no difference to normal distribution. In this case, height is more likely to be similar to normal distribution."
   ]
  },
  {
   "cell_type": "markdown",
   "metadata": {},
   "source": [
    "#### Then study the distribution of curb-weight"
   ]
  },
  {
   "cell_type": "code",
   "execution_count": 18,
   "metadata": {},
   "outputs": [
    {
     "data": {
      "image/png": "[encoded data removed]",
      "text/plain": [
       "<Figure size 432x432 with 2 Axes>"
      ]
     },
     "metadata": {
      "needs_background": "light"
     },
     "output_type": "display_data"
    }
   ],
   "source": [
    "df['log c-w'] = np.log(df['curb-weight'])\n",
    "qq_plot(df['curb-weight'],df['log c-w'])"
   ]
  },
  {
   "cell_type": "code",
   "execution_count": 19,
   "metadata": {},
   "outputs": [
    {
     "name": "stdout",
     "output_type": "stream",
     "text": [
      "KS-statistic for n_cw = 0.11239098195595931\n",
      "P-value for n_cw= 0.011462332468530725\n",
      "None\n",
      "KS-statistic for n_lcw = 0.0793099857585301\n",
      "P-value for n_lcw= 0.15120021366811584\n",
      "None\n"
     ]
    }
   ],
   "source": [
    "n_cw = scale(df['curb-weight'])\n",
    "n_lcw = scale(df['log c-w'])\n",
    "\n",
    "print(ks_test(n_cw, 'n_cw'))\n",
    "print(ks_test(n_lcw, 'n_lcw'))"
   ]
  },
  {
   "cell_type": "markdown",
   "metadata": {},
   "source": [
    "Based on the statitics, p-value for log_curb-weight is higher than 0.05, suggesting we cannot reject the null hypothesis in this case. So, log_curb-weight is more likely to be similar to normal distribution."
   ]
  },
  {
   "cell_type": "markdown",
   "metadata": {},
   "source": [
    "#### Then study the distribution of horsepower"
   ]
  },
  {
   "cell_type": "code",
   "execution_count": 20,
   "metadata": {},
   "outputs": [
    {
     "data": {
      "image/png": "[encoded data removed]",
      "text/plain": [
       "<Figure size 432x432 with 2 Axes>"
      ]
     },
     "metadata": {
      "needs_background": "light"
     },
     "output_type": "display_data"
    }
   ],
   "source": [
    "#using to_numeric to convert dtype to numberic type\n",
    "df['horsepower'] = pd.to_numeric(df['horsepower'], errors='coerce')\n",
    "\n",
    "#if they are missing values, remove the missing values of\n",
    "df.dropna(inplace=True)\n",
    "\n",
    "#create log horsepower\n",
    "df['log hp'] = np.log(df['horsepower'])\n",
    "qq_plot(df['horsepower'],df['log hp'])"
   ]
  },
  {
   "cell_type": "code",
   "execution_count": 21,
   "metadata": {},
   "outputs": [
    {
     "name": "stdout",
     "output_type": "stream",
     "text": [
      "KS-statistic for n_hp = 0.12706164818524857\n",
      "P-value for n_hp= 0.0029277197815358812\n",
      "None\n",
      "KS-statistic for n_lhp = 0.10331376349242288\n",
      "P-value for n_lhp= 0.026531353001075612\n",
      "None\n"
     ]
    }
   ],
   "source": [
    "n_hp = scale(df['horsepower'])\n",
    "n_lhp = scale(df['log hp'])\n",
    "\n",
    "print(ks_test(n_hp, 'n_hp'))\n",
    "print(ks_test(n_lhp, 'n_lhp'))"
   ]
  },
  {
   "cell_type": "markdown",
   "metadata": {},
   "source": [
    "Based on the statitics, both p-values smaller than the classic 0.05 threshold, suggesting we can reject the null hypothesis in both cases. If we set threshold alpha smaller, like 2%. In this case, we cannot reject the hypothesis for log horsepower, suggesting that log horsepower has no difference to normal distribution. Thus, log horsepower can be better represented as a normal distribution."
   ]
  },
  {
   "cell_type": "markdown",
   "metadata": {},
   "source": [
    "### 2. Compute basic summary statistic of the mean by both classical bootstrap and Bayesian methods"
   ]
  },
  {
   "cell_type": "markdown",
   "metadata": {},
   "source": [
    "##### Let's do bootstrp mean.\n",
    "Height is choosen to perform the analysis"
   ]
  },
  {
   "cell_type": "code",
   "execution_count": 22,
   "metadata": {},
   "outputs": [
    {
     "data": {
      "text/html": [
       "<div>\n",
       "<style scoped>\n",
       "    .dataframe tbody tr th:only-of-type {\n",
       "        vertical-align: middle;\n",
       "    }\n",
       "\n",
       "    .dataframe tbody tr th {\n",
       "        vertical-align: top;\n",
       "    }\n",
       "\n",
       "    .dataframe thead th {\n",
       "        text-align: right;\n",
       "    }\n",
       "</style>\n",
       "<table border=\"1\" class=\"dataframe\">\n",
       "  <thead>\n",
       "    <tr style=\"text-align: right;\">\n",
       "      <th></th>\n",
       "      <th>height mean</th>\n",
       "    </tr>\n",
       "  </thead>\n",
       "  <tbody>\n",
       "    <tr>\n",
       "      <th>0</th>\n",
       "      <td>3.98</td>\n",
       "    </tr>\n",
       "  </tbody>\n",
       "</table>\n",
       "</div>"
      ],
      "text/plain": [
       "   height mean\n",
       "0         3.98"
      ]
     },
     "execution_count": 22,
     "metadata": {},
     "output_type": "execute_result"
    }
   ],
   "source": [
    "# boostrap sample\n",
    "bstrap = df.sample(frac = 1, replace=True)\n",
    "#calculate the mean of boostrap sample\n",
    "h = bstrap['log height'].mean()\n",
    "bstrap_sum = pd.DataFrame({ 'height mean':[h]})\n",
    "bstrap_sum.round(2)"
   ]
  },
  {
   "cell_type": "markdown",
   "metadata": {},
   "source": [
    "Height mean is estimated usign Boostrap method, to be 3.99"
   ]
  },
  {
   "cell_type": "markdown",
   "metadata": {},
   "source": [
    "##### Compute the mean using Bayesian method.\n",
    "To perform this analysis, we need to select a prior distribution and compute the likelihood. First, we will address the likelihood.\n",
    "\n",
    "For features I selected, height. I will use Normal likelihood, that means my prior probability would be normal as well."
   ]
  },
  {
   "cell_type": "markdown",
   "metadata": {},
   "source": [
    "##### Mean for height in Bayesian method"
   ]
  },
  {
   "cell_type": "code",
   "execution_count": 23,
   "metadata": {},
   "outputs": [],
   "source": [
    "N = 1000\n",
    "p = np.linspace(3.9, 4.1, num=N)\n",
    "\n",
    "pp = ss.norm.pdf(p, loc=df['log height'].mean(), scale=1)\n",
    "pp = pp / pp.sum() # normalize\n",
    "\n",
    "def posterior(prior, like):\n",
    "    post = prior * like # compute the product of the probabilities\n",
    "    return post / sum(post) # normalize the distribution to sum to unity\n",
    "\n",
    "def comp_like(p, x): \n",
    "    variance = np.std(x)**2 # sigmasqr\n",
    "    x_mean = np.asarray(x).mean()  # xbar\n",
    "#     print('Mean = %.3f, Standard deviation = %.3f' % (x_mean, np.std(x)))\n",
    "    n = len(x)\n",
    "    l = np.exp(-n * np.square(x_mean - p) / (2 * variance))\n",
    "    return l / l.sum()\n",
    "\n",
    "like_height = comp_like(p, df['log height'])\n",
    "post_height= posterior(pp, like_height)\n",
    "\n",
    "## plotting the prior, likelihood and posterior distribution\n",
    "# plt.plot(p, pp, label='prior')\n",
    "# plt.plot(p, like_height, label='likelihood', alpha=.3, linewidth=10)\n",
    "# plt.plot(p, post_height, label='posterior')\n",
    "# plt.title('Height')\n",
    "# plt.legend();"
   ]
  },
  {
   "cell_type": "markdown",
   "metadata": {},
   "source": [
    "Becaues height is a discrete random varibale, expectecd  value can be calculated by sum (x*p(X=x)). So the mean of the posterior distribution can be calcualted as below."
   ]
  },
  {
   "cell_type": "code",
   "execution_count": 24,
   "metadata": {},
   "outputs": [
    {
     "name": "stdout",
     "output_type": "stream",
     "text": [
      "Mean for posterior distribution = 3.98\n"
     ]
    }
   ],
   "source": [
    "bayesian_mean = sum(post_height * p)\n",
    "print('Mean for posterior distribution = %.2f' % (bayesian_mean))"
   ]
  },
  {
   "cell_type": "markdown",
   "metadata": {},
   "source": [
    "In the log height feature, mean estimated using boostrapping is 3.99, while mean estimated using bayesian is 3.98. They are close to each other. "
   ]
  },
  {
   "cell_type": "markdown",
   "metadata": {},
   "source": [
    "### 3.Compute confidence intervals for the summary statistics by classical bootstrap and Bayesian methods"
   ]
  },
  {
   "cell_type": "code",
   "execution_count": 25,
   "metadata": {},
   "outputs": [],
   "source": [
    "#define a function to compute condifence intervals at 95% confidence interval\n",
    "def ci(x, name):\n",
    "    p = 5\n",
    "    lower = np.percentile(x, p/2.)\n",
    "    upper = np.percentile(x, 100-p/2.)\n",
    "    print(\"Confidence interval for %s. is %.2f and %.2f\" % (name, lower, upper))"
   ]
  },
  {
   "cell_type": "code",
   "execution_count": 26,
   "metadata": {},
   "outputs": [
    {
     "name": "stdout",
     "output_type": "stream",
     "text": [
      "Confidence interval for log height. is 3.90 and 4.07\n"
     ]
    }
   ],
   "source": [
    "#compute the confidence interval \n",
    "ci(bstrap['log height'], 'log height')"
   ]
  },
  {
   "cell_type": "code",
   "execution_count": 27,
   "metadata": {},
   "outputs": [
    {
     "name": "stdout",
     "output_type": "stream",
     "text": [
      "Confidence interval for log height. is 3.90 and 4.07\n"
     ]
    }
   ],
   "source": [
    "\n",
    "ci(df['log height'], 'log height')"
   ]
  },
  {
   "cell_type": "markdown",
   "metadata": {},
   "source": [
    "Using the classical boostrapping method, the confidence interval for log height is 3.90 to 4.07, while in the Bayesian method, the confidence interval for log height is 3.90 to 4.07. They are similar to each other. "
   ]
  },
  {
   "cell_type": "markdown",
   "metadata": {},
   "source": [
    "### 4.Correctly use hypothesis tests to determine if the differences in pairs and multiple populations are statistically significant. You will continue the analysis that you started in Assignment 04. For each of the groupings you analyzed in Assignment 04, apply the following methods:\n",
    "### 1. Bootstrap methods\n",
    "### 2. Bayesian model\n",
    "\n",
    "#### First, do the pairs study first"
   ]
  },
  {
   "cell_type": "markdown",
   "metadata": {},
   "source": [
    "#### Boostrap method Price vs Aspiration "
   ]
  },
  {
   "cell_type": "code",
   "execution_count": 28,
   "metadata": {},
   "outputs": [
    {
     "name": "stdout",
     "output_type": "stream",
     "text": [
      "total std smaples: 166\n",
      "total samples: 199\n"
     ]
    }
   ],
   "source": [
    "#create new dataframes for gas and diesel\n",
    "std =pd.DataFrame()\n",
    "turbo = pd.DataFrame()\n",
    "print ( 'total std smaples:' ,sum(bstrap['aspiration'] == 'std'))\n",
    "print('total samples:' ,bstrap.shape[0])"
   ]
  },
  {
   "cell_type": "markdown",
   "metadata": {},
   "source": [
    "Check the sample size for each aspiration, and found that this is an unbalance sample size problem. Solution to this unbalance problem is get the same group size. (Similar to fuel type problem)\n",
    "\n",
    "First, I need to boostrap samples, then I need to randomly pick 36 samples from std use Bernoulli sampling."
   ]
  },
  {
   "cell_type": "code",
   "execution_count": 29,
   "metadata": {},
   "outputs": [],
   "source": [
    "# from boostrap sample take out aspiration and log price\n",
    "std['std price']=bstrap[bstrap['aspiration'] == 'std']['log price']\n",
    "turbo['turbo price']=bstrap[bstrap['aspiration'] == 'turbo']['log price']\n",
    "\n",
    "#  Bernoulli sampling\n",
    "p = 0.1\n",
    "std_36= std.iloc[nr.choice(range(162), size = int(p * 360)), :]"
   ]
  },
  {
   "cell_type": "code",
   "execution_count": 30,
   "metadata": {},
   "outputs": [
    {
     "data": {
      "image/png": "[encoded data removed]",
      "text/plain": [
       "<Figure size 432x288 with 2 Axes>"
      ]
     },
     "metadata": {
      "needs_background": "light"
     },
     "output_type": "display_data"
    }
   ],
   "source": [
    "def hist_plot(vec, bins):\n",
    "    from statistics import mean\n",
    "    plt.hist(vec, bins = bins)\n",
    "    plt.axvline(mean(vec), color = 'red')\n",
    "#     print(mean(vec))\n",
    "    plt.ylabel('Frequency')\n",
    "    plt.xlabel('Value')\n",
    "    \n",
    "def plot_pop(a, b, cols=['std', 'turbo'], nbins = 10):\n",
    "    minx = min([min(a), min(b)])\n",
    "    maxx = max([max(a), max(b)])\n",
    "    stepx = (maxx - minx)/(nbins + 1)\n",
    "    bins = [minx + i * stepx for i in range(nbins + 1)]\n",
    "    plt.subplot(2, 1, 1) # The first plot\n",
    "    hist_plot(a, bins)\n",
    "    plt.title('Histograme of ' + cols[0] + ' and ' + cols[1])\n",
    "    plt.subplot(2, 1, 2) # The next plot\n",
    "    hist_plot(b, bins)\n",
    "\n",
    "plot_pop(std_36['std price'], turbo['turbo price']) "
   ]
  },
  {
   "cell_type": "code",
   "execution_count": 31,
   "metadata": {},
   "outputs": [
    {
     "data": {
      "text/plain": [
       "DegFreedom    66.659313\n",
       "Difference    -0.333146\n",
       "Statistic     -3.015979\n",
       "PValue         0.003623\n",
       "Low95CI       -0.553646\n",
       "High95CI      -0.112645\n",
       "dtype: float64"
      ]
     },
     "execution_count": 31,
     "metadata": {},
     "output_type": "execute_result"
    }
   ],
   "source": [
    "def t_test(a, b, alpha, alternative='two-sided'):\n",
    "    from scipy import stats\n",
    "    import scipy.stats as ss\n",
    "    import statsmodels.stats.weightstats as ws\n",
    "    \n",
    "    diff = a.mean() - b.mean()\n",
    "\n",
    "    res = ss.ttest_ind(a, b, equal_var=False)\n",
    "      \n",
    "    means = ws.CompareMeans(ws.DescrStatsW(a), ws.DescrStatsW(b))\n",
    "    confint = means.tconfint_diff(alpha=alpha, \n",
    "                                  alternative=alternative, usevar='unequal') \n",
    "    degfree = means.dof_satt()\n",
    "\n",
    "    index = ['DegFreedom', 'Difference', 'Statistic', \n",
    "             'PValue', 'Low95CI', 'High95CI']\n",
    "    return pd.Series([degfree, diff, res[0], res[1],\n",
    "                      confint[0], confint[1]], index = index)   \n",
    "   \n",
    "aspiration = t_test(std_36['std price'], turbo['turbo price'],0.05) \n",
    "aspiration"
   ]
  },
  {
   "cell_type": "markdown",
   "metadata": {},
   "source": [
    "From stats (Boostrap method for price vs aspiration):\n",
    "\n",
    "Difference in means is large.\n",
    "\n",
    "The t-statistic is small and the p-value is small(alpha = 0.05). Therefore, there is a low chance that the difference in means is from random variation alone. Based on these statistics we can reject the null hypothesis that price for std car is different from turbo car."
   ]
  },
  {
   "cell_type": "markdown",
   "metadata": {},
   "source": [
    "#### Bayesian method for Price vs Aspiration"
   ]
  },
  {
   "cell_type": "code",
   "execution_count": 32,
   "metadata": {},
   "outputs": [],
   "source": [
    "#create std and turbo data frame with log price\n",
    "s =pd.DataFrame()\n",
    "t = pd.DataFrame()\n",
    "s['std price']=df[df['aspiration'] == 'std']['log price']\n",
    "t['turbo price']=df[df['aspiration'] == 'turbo']['log price']\n",
    "\n",
    "#  Bernoulli sampling, solve unbalanced sample problem\n",
    "p = 0.1\n",
    "s_36= s.iloc[nr.choice(range(162), size = int(p * 360)), :]"
   ]
  },
  {
   "cell_type": "code",
   "execution_count": 33,
   "metadata": {},
   "outputs": [],
   "source": [
    "#create a posterior distribution for std\n",
    "N = 10000\n",
    "p = np.linspace(8, 10, num=N)\n",
    "\n",
    "pp = ss.norm.pdf(p, loc=s_36.mean(), scale=1)\n",
    "pp = pp / pp.sum() # normalize\n",
    "\n",
    "def posterior(prior, like):\n",
    "    post = prior * like # compute the product of the probabilities\n",
    "    return post / sum(post) # normalize the distribution to sum to unity\n",
    "\n",
    "def comp_like(p, x): \n",
    "    variance = np.std(x)**2 # sigmasqr\n",
    "    x_mean = np.asarray(x).mean()  # xbar\n",
    "#     print('Mean = %.3f, Standard deviation = %.3f' % (x_mean, np.std(x)))\n",
    "    n = len(x)\n",
    "    l = np.exp(-n * np.square(x_mean - p) / (2 * variance))\n",
    "    return l / l.sum()\n",
    "\n",
    "like_std = comp_like(p, s_36['std price'])\n",
    "post_std= posterior(pp, like_std)\n",
    "\n",
    "# plotting the prior, likelihood and posterior distribution\n",
    "# plt.plot(p, pp, label='prior')\n",
    "# plt.plot(p, like_std, label='likelihood', alpha=.3, linewidth=10)\n",
    "# plt.plot(p, post_std, label='posterior')\n",
    "# plt.title('Height')\n",
    "# plt.legend();"
   ]
  },
  {
   "cell_type": "code",
   "execution_count": 34,
   "metadata": {},
   "outputs": [
    {
     "name": "stdout",
     "output_type": "stream",
     "text": [
      "Mean = 9.626, Standard deviation = 0.378\n"
     ]
    }
   ],
   "source": [
    "#create a posterior distribution for turbo\n",
    "pp = ss.norm.pdf(p, loc=t.mean(), scale=1)\n",
    "pp = pp / pp.sum() # normalize\n",
    "\n",
    "def posterior(prior, like):\n",
    "    post = prior * like # compute the product of the probabilities\n",
    "    return post / sum(post) # normalize the distribution to sum to unity\n",
    "\n",
    "def comp_like(p, x): \n",
    "    variance = np.std(x)**2 # sigmasqr\n",
    "    x_mean = np.asarray(x).mean()  # xbar\n",
    "    print('Mean = %.3f, Standard deviation = %.3f' % (x_mean, np.std(x)))\n",
    "    n = len(x)\n",
    "    l = np.exp(-n * np.square(x_mean - p) / (2 * variance))\n",
    "    return l / l.sum()\n",
    "\n",
    "like_turbo = comp_like(p, t['turbo price'])\n",
    "post_turbo= posterior(pp, like_turbo)\n",
    "\n",
    "# # plotting the prior, likelihood and posterior distribution\n",
    "# plt.plot(p, pp, label='prior')\n",
    "# plt.plot(p, like_height, label='likelihood', alpha=.3, linewidth=10)\n",
    "# plt.plot(p, post_turbo, label='posterior')\n",
    "# plt.title('Height')\n",
    "# plt.legend();"
   ]
  },
  {
   "cell_type": "code",
   "execution_count": 35,
   "metadata": {},
   "outputs": [
    {
     "name": "stdout",
     "output_type": "stream",
     "text": [
      "Mean for std 1.00 and turbo 1.00 using Bayesian method\n"
     ]
    }
   ],
   "source": [
    "#get the mean distribution of two categories\n",
    "p_std = post_std.sum()\n",
    "p_tur = post_turbo.sum()\n",
    "print(\"Mean for std %.2f and turbo %.2f using Bayesian method\"%(p_std, p_tur))\n",
    "#perform t-test\n",
    "# aspiration_bay = t_test(p_std, p_tur,0.05) \n",
    "# aspiration_bay"
   ]
  },
  {
   "cell_type": "markdown",
   "metadata": {},
   "source": [
    "From stats (Bayesian method for price vs aspiration):\n",
    "The means are std and turbo are the same. \n",
    "\n",
    "To further study two posterior distribution, I calculate the credible interval of two.\n",
    "\n",
    "First, plot the CI for price of std"
   ]
  },
  {
   "cell_type": "code",
   "execution_count": 36,
   "metadata": {},
   "outputs": [
    {
     "name": "stdout",
     "output_type": "stream",
     "text": [
      "The 0.950 credible interval is 9.087 to 9.436\n"
     ]
    },
    {
     "name": "stderr",
     "output_type": "stream",
     "text": [
      "C:\\Users\\zhuoy\\anaconda3\\lib\\site-packages\\ipykernel_launcher.py:8: DeprecationWarning: scipy.percentile is deprecated and will be removed in SciPy 2.0.0, use numpy.percentile instead\n",
      "  \n"
     ]
    },
    {
     "data": {
      "image/png": "[encoded data removed]",
      "text/plain": [
       "<Figure size 432x288 with 1 Axes>"
      ]
     },
     "metadata": {
      "needs_background": "light"
     },
     "output_type": "display_data"
    }
   ],
   "source": [
    "def plot_ci(p, post, num_samples, lower_q, upper_q):\n",
    "    ## This function computes a credible interval using an assumption\n",
    "    ## of symetry in the bulk of the distribution to keep the \n",
    "    ## calculation simple. \n",
    "    ## Compute a large sample by resampling with replacement\n",
    "    from matplotlib import pyplot\n",
    "    samples = np.random.choice(p, size=num_samples, replace=True, p=post)\n",
    "    ci = scipy.percentile(samples, [lower_q*100, upper_q*100]) # compute the quantiles\n",
    "    \n",
    "    interval = upper_q - lower_q\n",
    "    pyplot.title('Posterior density with %.3f credible interval' % interval)\n",
    "    pyplot.plot(p, post, color='blue')\n",
    "    pyplot.xlabel('Parameter value')\n",
    "    pyplot.ylabel('Density')\n",
    "    pyplot.axvline(x=ci[0], color='red')\n",
    "    pyplot.axvline(x=ci[1], color='red')\n",
    "    print('The %.3f credible interval is %.3f to %.3f' \n",
    "          % (interval, ci[0], ci[1]))\n",
    "    \n",
    "plot_ci(p, post_std, N, lower_q=.025, upper_q=.975)"
   ]
  },
  {
   "cell_type": "markdown",
   "metadata": {},
   "source": [
    "Plot the CI for price of turbo."
   ]
  },
  {
   "cell_type": "code",
   "execution_count": 37,
   "metadata": {},
   "outputs": [
    {
     "name": "stdout",
     "output_type": "stream",
     "text": [
      "The 0.950 credible interval is 9.504 to 9.746\n"
     ]
    },
    {
     "name": "stderr",
     "output_type": "stream",
     "text": [
      "C:\\Users\\zhuoy\\anaconda3\\lib\\site-packages\\ipykernel_launcher.py:8: DeprecationWarning: scipy.percentile is deprecated and will be removed in SciPy 2.0.0, use numpy.percentile instead\n",
      "  \n"
     ]
    },
    {
     "data": {
      "image/png": "[encoded data removed]",
      "text/plain": [
       "<Figure size 432x288 with 1 Axes>"
      ]
     },
     "metadata": {
      "needs_background": "light"
     },
     "output_type": "display_data"
    }
   ],
   "source": [
    "plot_ci(p, post_turbo, N, lower_q=.025, upper_q=.975)"
   ]
  },
  {
   "cell_type": "markdown",
   "metadata": {},
   "source": [
    "From the above credible interval comparsion, CIs do not overlap, that means price for std is different than price for turbo, agree with the analysis using Boostrapping method."
   ]
  },
  {
   "cell_type": "markdown",
   "metadata": {},
   "source": [
    "## Summary for pairs comparison:\n",
    "Both boostrap and Bayesian methods, price for turbo is different from price for std, agree with L4 classical analysis."
   ]
  },
  {
   "cell_type": "markdown",
   "metadata": {},
   "source": [
    "### Multipopulation\n",
    "\n",
    "#### Boostrap for Body-style analysis"
   ]
  },
  {
   "cell_type": "code",
   "execution_count": 38,
   "metadata": {},
   "outputs": [],
   "source": [
    "conv = pd.DataFrame()\n",
    "hat = pd.DataFrame()\n",
    "sed = pd.DataFrame()\n",
    "wag = pd.DataFrame()\n",
    "hard = pd.DataFrame()\n",
    "\n",
    "conv['conv price']=bstrap[bstrap['body-style'] == 'convertible']['log price']\n",
    "hat['hat price']=bstrap[bstrap['body-style'] == 'hatchback']['log price']\n",
    "sed['sed price']=bstrap[bstrap['body-style'] == 'sedan']['log price']\n",
    "wag['wag price']=bstrap[bstrap['body-style'] == 'wagon']['log price']\n",
    "hard['hard price']=bstrap[bstrap['body-style'] == 'hardtop']['log price']"
   ]
  },
  {
   "cell_type": "code",
   "execution_count": 39,
   "metadata": {},
   "outputs": [
    {
     "data": {
      "image/png": "[encoded data removed]",
      "text/plain": [
       "<Figure size 432x288 with 1 Axes>"
      ]
     },
     "metadata": {
      "needs_background": "light"
     },
     "output_type": "display_data"
    }
   ],
   "source": [
    "fig = plt.figure()\n",
    "ax = fig.add_subplot(111)\n",
    "ax.boxplot([conv['conv price'], hat['hat price'], \n",
    "             sed['sed price'], wag['wag price'], hard['hard price']])\n",
    "plt.ylabel('Log Price')\n",
    "ax.set_xticklabels(['convertible', 'hatchabck','sedan','wagon', 'hardtop'], rotation = 'vertical')\n",
    "plt.xlabel('Variable')\n",
    "plt.title('Box plot of body-style variables');"
   ]
  },
  {
   "cell_type": "code",
   "execution_count": 40,
   "metadata": {},
   "outputs": [
    {
     "name": "stdout",
     "output_type": "stream",
     "text": [
      "F statistic = 8.899881023936608\n",
      "P-value = 1.281693113713407e-06\n"
     ]
    }
   ],
   "source": [
    "f_statistic, p_value = ss.f_oneway(conv['conv price'], hat['hat price'],\n",
    "                                   sed['sed price'], wag['wag price'], \n",
    "                                   hard['hard price'])\n",
    "print('F statistic = ' + str(f_statistic))\n",
    "print('P-value = ' + str(p_value))"
   ]
  },
  {
   "cell_type": "markdown",
   "metadata": {},
   "source": [
    "The F statistic is fairly large and the p-value is small. We can reject the null hypothesis that the 5 variables have the same mean, as the probability of the differences arising from random chance is quite low.\n",
    "\n",
    "From the above ANOVA results we know that there is some difference in the means of these variables. However, the ANOVA does not tell us which variable is significantly different. So we need to perform HSD test."
   ]
  },
  {
   "cell_type": "code",
   "execution_count": 41,
   "metadata": {},
   "outputs": [
    {
     "name": "stdout",
     "output_type": "stream",
     "text": [
      "Multiple Comparison of Means - Tukey HSD, FWER=0.05 \n",
      "====================================================\n",
      "group1 group2 meandiff p-adj   lower   upper  reject\n",
      "----------------------------------------------------\n",
      "  conv   hard  -0.0978    0.9 -0.8143  0.6187  False\n",
      "  conv    hat  -0.7338  0.001 -1.1796  -0.288   True\n",
      "  conv    sed  -0.3832 0.1095 -0.8158  0.0494  False\n",
      "  conv    wag  -0.4413 0.1574 -0.9754  0.0927  False\n",
      "  hard    hat   -0.636 0.0355 -1.2442 -0.0278   True\n",
      "  hard    sed  -0.2854 0.6608  -0.884  0.3131  False\n",
      "  hard    wag  -0.3436 0.6115 -1.0191   0.332  False\n",
      "   hat    sed   0.3506  0.001  0.1418  0.5594   True\n",
      "   hat    wag   0.2924 0.2078  -0.084  0.6689  False\n",
      "   sed    wag  -0.0582    0.9 -0.4188  0.3025  False\n",
      "----------------------------------------------------\n"
     ]
    }
   ],
   "source": [
    "from statsmodels.stats.multicomp import pairwise_tukeyhsd\n",
    "df2 = pd.DataFrame({'vals' :conv['conv price'].tolist() + \n",
    "                    hat['hat price'].tolist() +\n",
    "                   sed['sed price'].tolist() +wag['wag price'].tolist() +\n",
    "                    hard['hard price'].tolist(),\n",
    "                   'group_num': ['conv'] * len(conv) + ['hat'] * len(hat) + \n",
    "                    ['sed'] * len(sed) +\n",
    "                   ['wag'] * len(wag) + ['hard'] *len(hard) })\n",
    "Tukey_HSD = pairwise_tukeyhsd(df2.vals, df2.group_num)\n",
    "print(Tukey_HSD)"
   ]
  },
  {
   "cell_type": "markdown",
   "metadata": {},
   "source": [
    "From the table, we can see whether there is significant difference based on p-values and the reject column. \"True\" means we\n",
    "reject the null hypoehtisis, there is a difference."
   ]
  },
  {
   "cell_type": "markdown",
   "metadata": {},
   "source": [
    "Next, we need to use Bayesian method to compare multipopulations."
   ]
  },
  {
   "cell_type": "code",
   "execution_count": 42,
   "metadata": {},
   "outputs": [],
   "source": [
    "#create std and turbo data frame with log price\n",
    "conv = pd.DataFrame()\n",
    "hat = pd.DataFrame()\n",
    "sed = pd.DataFrame()\n",
    "wag = pd.DataFrame()\n",
    "hard = pd.DataFrame()\n",
    "\n",
    "\n",
    "\n",
    "conv['conv price']=df[df['body-style'] == 'convertible']['log price']\n",
    "hat['hat price']=df[df['body-style'] == 'hatchback']['log price']\n",
    "sed['sed price']=df[df['body-style'] == 'sedan']['log price']\n",
    "wag['wag price']=df[df['body-style'] == 'wagon']['log price']\n",
    "hard['hard price']=df[df['body-style'] == 'hardtop']['log price']"
   ]
  },
  {
   "cell_type": "code",
   "execution_count": 43,
   "metadata": {},
   "outputs": [
    {
     "name": "stdout",
     "output_type": "stream",
     "text": [
      "Mean = 9.891, Standard deviation = 0.447\n"
     ]
    }
   ],
   "source": [
    "#create a posterior distribution for conv\n",
    "N = 10000\n",
    "p = np.linspace(8, 12, num=N)\n",
    "\n",
    "pp = ss.norm.pdf(p, loc=conv.mean(), scale=1)\n",
    "pp = pp / pp.sum() # normalize\n",
    "\n",
    "like_conv = comp_like(p, conv['conv price'])\n",
    "post_conv= posterior(pp, like_conv)"
   ]
  },
  {
   "cell_type": "markdown",
   "metadata": {},
   "source": [
    "Create a posterior distribution for hat"
   ]
  },
  {
   "cell_type": "code",
   "execution_count": 44,
   "metadata": {},
   "outputs": [
    {
     "name": "stdout",
     "output_type": "stream",
     "text": [
      "Mean = 9.127, Standard deviation = 0.392\n"
     ]
    }
   ],
   "source": [
    "pp = ss.norm.pdf(p, loc=hat.mean(), scale=1)\n",
    "pp = pp / pp.sum() # normalize\n",
    "\n",
    "like_hat = comp_like(p, hat['hat price'])\n",
    "post_hat= posterior(pp, like_hat)"
   ]
  },
  {
   "cell_type": "markdown",
   "metadata": {},
   "source": [
    "Create a posterior distribution for sed"
   ]
  },
  {
   "cell_type": "code",
   "execution_count": 45,
   "metadata": {},
   "outputs": [
    {
     "name": "stdout",
     "output_type": "stream",
     "text": [
      "Mean = 9.439, Standard deviation = 0.510\n"
     ]
    }
   ],
   "source": [
    "pp = ss.norm.pdf(p, loc=sed.mean(), scale=1)\n",
    "pp = pp / pp.sum() # normalize\n",
    "\n",
    "like_sed = comp_like(p, sed['sed price'])\n",
    "post_sed = posterior(pp, like_sed)"
   ]
  },
  {
   "cell_type": "markdown",
   "metadata": {},
   "source": [
    "Create a posterior distribution for wag"
   ]
  },
  {
   "cell_type": "code",
   "execution_count": 46,
   "metadata": {},
   "outputs": [
    {
     "name": "stdout",
     "output_type": "stream",
     "text": [
      "Mean = 9.360, Standard deviation = 0.378\n"
     ]
    }
   ],
   "source": [
    "pp = ss.norm.pdf(p, loc=wag.mean(), scale=1)\n",
    "pp = pp / pp.sum() # normalize\n",
    "\n",
    "like_wag = comp_like(p, wag['wag price'])\n",
    "post_wag= posterior(pp, like_wag)"
   ]
  },
  {
   "cell_type": "markdown",
   "metadata": {},
   "source": [
    "Create a posterior distribution for hard"
   ]
  },
  {
   "cell_type": "code",
   "execution_count": 47,
   "metadata": {},
   "outputs": [
    {
     "name": "stdout",
     "output_type": "stream",
     "text": [
      "Mean = 9.794, Standard deviation = 0.672\n"
     ]
    }
   ],
   "source": [
    "pp = ss.norm.pdf(p, loc=hard.mean(), scale=1)\n",
    "pp = pp / pp.sum() # normalize\n",
    "\n",
    "like_hard = comp_like(p, hard['hard price'])\n",
    "post_hard = posterior(pp, like_hard)"
   ]
  },
  {
   "cell_type": "code",
   "execution_count": 48,
   "metadata": {},
   "outputs": [
    {
     "name": "stdout",
     "output_type": "stream",
     "text": [
      "Mean for conv 1.00, hat 1.00, sed 1.00, wag 1.00 and hard 1.00 using Bayesian method\n"
     ]
    }
   ],
   "source": [
    "#get the mean distribution of five categories\n",
    "p_conv = post_conv.sum()\n",
    "p_hat = post_hat.sum()\n",
    "p_sed = post_sed.sum()\n",
    "p_wag = post_wag.sum()\n",
    "p_hard = post_hard.sum()\n",
    "print(\"Mean for conv %.2f, hat %.2f, sed %.2f, wag %.2f and hard %.2f using Bayesian method\"\n",
    "      %(p_conv, p_hat, p_sed, p_wag, p_hard))"
   ]
  },
  {
   "cell_type": "markdown",
   "metadata": {},
   "source": [
    "Means for five categoreis are the same with 2 decimal places. So I plot CIs for further analysis."
   ]
  },
  {
   "cell_type": "code",
   "execution_count": 49,
   "metadata": {},
   "outputs": [
    {
     "name": "stdout",
     "output_type": "stream",
     "text": [
      "The 0.950 credible interval is 9.537 to 10.244\n"
     ]
    },
    {
     "name": "stderr",
     "output_type": "stream",
     "text": [
      "C:\\Users\\zhuoy\\anaconda3\\lib\\site-packages\\ipykernel_launcher.py:8: DeprecationWarning: scipy.percentile is deprecated and will be removed in SciPy 2.0.0, use numpy.percentile instead\n",
      "  \n"
     ]
    },
    {
     "data": {
      "image/png": "[encoded data removed]",
      "text/plain": [
       "<Figure size 432x288 with 1 Axes>"
      ]
     },
     "metadata": {
      "needs_background": "light"
     },
     "output_type": "display_data"
    }
   ],
   "source": [
    "plot_ci(p, post_conv, N, lower_q=.025, upper_q=.975)"
   ]
  },
  {
   "cell_type": "code",
   "execution_count": 50,
   "metadata": {},
   "outputs": [
    {
     "name": "stdout",
     "output_type": "stream",
     "text": [
      "The 0.950 credible interval is 9.031 to 9.221\n"
     ]
    },
    {
     "name": "stderr",
     "output_type": "stream",
     "text": [
      "C:\\Users\\zhuoy\\anaconda3\\lib\\site-packages\\ipykernel_launcher.py:8: DeprecationWarning: scipy.percentile is deprecated and will be removed in SciPy 2.0.0, use numpy.percentile instead\n",
      "  \n"
     ]
    },
    {
     "data": {
      "image/png": "[encoded data removed]",
      "text/plain": [
       "<Figure size 432x288 with 1 Axes>"
      ]
     },
     "metadata": {
      "needs_background": "light"
     },
     "output_type": "display_data"
    }
   ],
   "source": [
    "plot_ci(p, post_hat, N, lower_q=.025, upper_q=.975)"
   ]
  },
  {
   "cell_type": "code",
   "execution_count": 51,
   "metadata": {},
   "outputs": [
    {
     "name": "stderr",
     "output_type": "stream",
     "text": [
      "C:\\Users\\zhuoy\\anaconda3\\lib\\site-packages\\ipykernel_launcher.py:8: DeprecationWarning: scipy.percentile is deprecated and will be removed in SciPy 2.0.0, use numpy.percentile instead\n",
      "  \n"
     ]
    },
    {
     "name": "stdout",
     "output_type": "stream",
     "text": [
      "The 0.950 credible interval is 9.336 to 9.541\n"
     ]
    },
    {
     "data": {
      "image/png": "[encoded data removed]",
      "text/plain": [
       "<Figure size 432x288 with 1 Axes>"
      ]
     },
     "metadata": {
      "needs_background": "light"
     },
     "output_type": "display_data"
    }
   ],
   "source": [
    "plot_ci(p, post_sed, N, lower_q=.025, upper_q=.975)"
   ]
  },
  {
   "cell_type": "code",
   "execution_count": 52,
   "metadata": {},
   "outputs": [
    {
     "name": "stderr",
     "output_type": "stream",
     "text": [
      "C:\\Users\\zhuoy\\anaconda3\\lib\\site-packages\\ipykernel_launcher.py:8: DeprecationWarning: scipy.percentile is deprecated and will be removed in SciPy 2.0.0, use numpy.percentile instead\n",
      "  \n"
     ]
    },
    {
     "name": "stdout",
     "output_type": "stream",
     "text": [
      "The 0.950 credible interval is 9.205 to 9.510\n"
     ]
    },
    {
     "data": {
      "image/png": "[encoded data removed]",
      "text/plain": [
       "<Figure size 432x288 with 1 Axes>"
      ]
     },
     "metadata": {
      "needs_background": "light"
     },
     "output_type": "display_data"
    }
   ],
   "source": [
    "plot_ci(p, post_wag, N, lower_q=.025, upper_q=.975)"
   ]
  },
  {
   "cell_type": "code",
   "execution_count": 53,
   "metadata": {},
   "outputs": [
    {
     "name": "stderr",
     "output_type": "stream",
     "text": [
      "C:\\Users\\zhuoy\\anaconda3\\lib\\site-packages\\ipykernel_launcher.py:8: DeprecationWarning: scipy.percentile is deprecated and will be removed in SciPy 2.0.0, use numpy.percentile instead\n",
      "  \n"
     ]
    },
    {
     "name": "stdout",
     "output_type": "stream",
     "text": [
      "The 0.950 credible interval is 9.345 to 10.243\n"
     ]
    },
    {
     "data": {
      "image/png": "[encoded data removed]",
      "text/plain": [
       "<Figure size 432x288 with 1 Axes>"
      ]
     },
     "metadata": {
      "needs_background": "light"
     },
     "output_type": "display_data"
    }
   ],
   "source": [
    "plot_ci(p, post_hard, N, lower_q=.025, upper_q=.975)"
   ]
  },
  {
   "cell_type": "markdown",
   "metadata": {},
   "source": [
    "### Summary for multipopulation Bayesian method\n",
    "conv:The 0.950 credible interval is 9.537 to 10.244\n",
    "\n",
    "hat:The 0.950 credible interval is  9.031 to 9.221\n",
    "\n",
    "sed:The 0.950 credible interval is  9.336 to 9.541\n",
    "\n",
    "wag:The 0.950 credible interval is 9.205 to 9.510\n",
    "\n",
    "hard:The 0.950 credible interval is 9.345 to 10.243\n",
    "\n",
    "##### If CIs overlap, implying that there is no significant difference between two categories, vice versa.\n",
    "\n",
    "conv and hat: not overlap, difference \n",
    "\n",
    "conv and sed: overlap, no difference\n",
    "\n",
    "conv and wag: not overlap, difference\n",
    "\n",
    "conv and hard: overlap, no difference\n",
    "\n",
    "hat and sed: not overlap, difference\n",
    "\n",
    "hat and wag:  overlap, no difference\n",
    "\n",
    "hat and hard: no overlap, difference\n",
    "\n",
    "sed and wag:overlap, no difference\n",
    "\n",
    "sed and hard:ovelap, no difference\n",
    "\n",
    "wag and hard:overlap, no difference"
   ]
  },
  {
   "cell_type": "markdown",
   "metadata": {},
   "source": [
    "Compared with the boostrapping method, the analysis is almost the same, except conv and sed. Their CIs have a little bit overlay, which could be errorous based on this small overlap."
   ]
  },
  {
   "cell_type": "markdown",
   "metadata": {},
   "source": [
    "## Summary for multipopulation comparisons\n",
    "1. boostrap analysis is the same as Bayesian analysis, except conv and sed, which chould be due to uncertainty of small overlap of CIs.\n",
    "2. classical analysis (L4) agree with boostrapping analysis.\n",
    "3. classical analysis (L4) agree with Bayesian analysis, except paris conv and sed. This is also due to the small overlap of CIs in Bayesian method for conv and sed.\n"
   ]
  }
 ],
 "metadata": {
  "kernelspec": {
   "display_name": "Python 3",
   "language": "python",
   "name": "python3"
  },
  "language_info": {
   "codemirror_mode": {
    "name": "ipython",
    "version": 3
   },
   "file_extension": ".py",
   "mimetype": "text/x-python",
   "name": "python",
   "nbconvert_exporter": "python",
   "pygments_lexer": "ipython3",
   "version": "3.7.6"
  }
 },
 "nbformat": 4,
 "nbformat_minor": 1
}
